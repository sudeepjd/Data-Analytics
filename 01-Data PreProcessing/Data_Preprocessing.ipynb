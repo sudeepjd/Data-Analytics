{
  "nbformat": 4,
  "nbformat_minor": 0,
  "metadata": {
    "colab": {
      "name": "Data Preprocessing",
      "provenance": [],
      "toc_visible": true,
      "authorship_tag": "ABX9TyOUL+633iIibSvXzvlv6yQ0",
      "include_colab_link": true
    },
    "kernelspec": {
      "name": "python3",
      "display_name": "Python 3"
    }
  },
  "cells": [
    {
      "cell_type": "markdown",
      "metadata": {
        "id": "view-in-github",
        "colab_type": "text"
      },
      "source": [
        "<a href=\"https://colab.research.google.com/github/sudeepjd/Data-Analytics/blob/master/01-Data%20PreProcessing/Data_Preprocessing.ipynb\" target=\"_parent\"><img src=\"https://colab.research.google.com/assets/colab-badge.svg\" alt=\"Open In Colab\"/></a>"
      ]
    },
    {
      "cell_type": "markdown",
      "metadata": {
        "id": "vl-JKA86CzxB",
        "colab_type": "text"
      },
      "source": [
        "# **Data Preprocessing Tools**"
      ]
    },
    {
      "cell_type": "markdown",
      "metadata": {
        "id": "IYTBOWnHDkWF",
        "colab_type": "text"
      },
      "source": [
        "**Import the Libraries**"
      ]
    },
    {
      "cell_type": "code",
      "metadata": {
        "id": "MPbewhegCo3V",
        "colab_type": "code",
        "colab": {}
      },
      "source": [
        "import numpy as np\n",
        "import matplotlib.pyplot as plt\n",
        "import pandas as pd"
      ],
      "execution_count": 5,
      "outputs": []
    },
    {
      "cell_type": "markdown",
      "metadata": {
        "id": "NwEG8saPDtrA",
        "colab_type": "text"
      },
      "source": [
        "**Importing the dataset**"
      ]
    },
    {
      "cell_type": "code",
      "metadata": {
        "id": "yNVUsvzFDxwn",
        "colab_type": "code",
        "colab": {}
      },
      "source": [
        "data_file = \"https://raw.githubusercontent.com/sudeepjd/Data-Analytics/master/01-Data%20PreProcessing/Data.csv\"\n",
        "dataset = pd.read_csv(data_file)"
      ],
      "execution_count": 6,
      "outputs": []
    },
    {
      "cell_type": "code",
      "metadata": {
        "id": "z5OZePBFJVtx",
        "colab_type": "code",
        "colab": {
          "base_uri": "https://localhost:8080/",
          "height": 204
        },
        "outputId": "3bb09380-df35-4dc9-cac6-ba62ffcfcb22"
      },
      "source": [
        "print(dataset)"
      ],
      "execution_count": 7,
      "outputs": [
        {
          "output_type": "stream",
          "text": [
            "        City   Age   Salary Purchased\n",
            "0  Bangalore  44.0  72000.0        No\n",
            "1    Chennai  27.0  48000.0       Yes\n",
            "2  Hyderabad  30.0  54000.0        No\n",
            "3    Chennai  38.0  61000.0        No\n",
            "4  Hyderabad  40.0      NaN       Yes\n",
            "5  Bangalore  35.0  58000.0       Yes\n",
            "6    Chennai   NaN  52000.0        No\n",
            "7  Bangalore  48.0  79000.0       Yes\n",
            "8  Hyderabad  50.0  83000.0        No\n",
            "9  Bangalore  37.0  67000.0       Yes\n"
          ],
          "name": "stdout"
        }
      ]
    },
    {
      "cell_type": "code",
      "metadata": {
        "id": "iZQIvp4wJcR8",
        "colab_type": "code",
        "colab": {}
      },
      "source": [
        "X = dataset.iloc[:, :-1].values\n",
        "y = dataset.iloc[:, -1].values"
      ],
      "execution_count": 8,
      "outputs": []
    },
    {
      "cell_type": "code",
      "metadata": {
        "id": "uj0Hl-zaD2K-",
        "colab_type": "code",
        "colab": {
          "base_uri": "https://localhost:8080/",
          "height": 34
        },
        "outputId": "e9dad0bb-4175-4349-d03c-a62a9a7e3448"
      },
      "source": [
        "print(y)"
      ],
      "execution_count": 9,
      "outputs": [
        {
          "output_type": "stream",
          "text": [
            "['No' 'Yes' 'No' 'No' 'Yes' 'Yes' 'No' 'Yes' 'No' 'Yes']\n"
          ],
          "name": "stdout"
        }
      ]
    },
    {
      "cell_type": "markdown",
      "metadata": {
        "id": "8eyJdMe9D_OG",
        "colab_type": "text"
      },
      "source": [
        "## Take Care of Missing Data"
      ]
    },
    {
      "cell_type": "code",
      "metadata": {
        "id": "cTemDNcdEEGq",
        "colab_type": "code",
        "colab": {
          "base_uri": "https://localhost:8080/",
          "height": 187
        },
        "outputId": "d68c8a79-7987-4412-9596-b09b404f091e"
      },
      "source": [
        "from sklearn.impute import SimpleImputer\n",
        "imputer = SimpleImputer(missing_values=np.nan, strategy = 'mean')\n",
        "imputer.fit(X[:, 1:3])\n",
        "X[:, 1:3] = imputer.transform(X[:, 1:3])\n",
        "print(X)"
      ],
      "execution_count": 10,
      "outputs": [
        {
          "output_type": "stream",
          "text": [
            "[['Bangalore' 44.0 72000.0]\n",
            " ['Chennai' 27.0 48000.0]\n",
            " ['Hyderabad' 30.0 54000.0]\n",
            " ['Chennai' 38.0 61000.0]\n",
            " ['Hyderabad' 40.0 63777.77777777778]\n",
            " ['Bangalore' 35.0 58000.0]\n",
            " ['Chennai' 38.77777777777778 52000.0]\n",
            " ['Bangalore' 48.0 79000.0]\n",
            " ['Hyderabad' 50.0 83000.0]\n",
            " ['Bangalore' 37.0 67000.0]]\n"
          ],
          "name": "stdout"
        }
      ]
    },
    {
      "cell_type": "markdown",
      "metadata": {
        "id": "uzGWBi9FFGQ0",
        "colab_type": "text"
      },
      "source": [
        "## Encoding Categorical Data"
      ]
    },
    {
      "cell_type": "markdown",
      "metadata": {
        "id": "g29nYYnUFaP6",
        "colab_type": "text"
      },
      "source": [
        "**Encoding the City Column**"
      ]
    },
    {
      "cell_type": "code",
      "metadata": {
        "id": "7LIJrRk7FKxf",
        "colab_type": "code",
        "colab": {
          "base_uri": "https://localhost:8080/",
          "height": 187
        },
        "outputId": "370e51ab-cb61-43b5-fd9e-86b4bc67bfe6"
      },
      "source": [
        "from sklearn.compose import ColumnTransformer\n",
        "from sklearn.preprocessing import OneHotEncoder\n",
        "ct = ColumnTransformer(transformers=[('encoder', OneHotEncoder(), [0])], remainder='passthrough')\n",
        "X = np.array(ct.fit_transform(X))\n",
        "print(X)"
      ],
      "execution_count": 11,
      "outputs": [
        {
          "output_type": "stream",
          "text": [
            "[[1.0 0.0 0.0 44.0 72000.0]\n",
            " [0.0 1.0 0.0 27.0 48000.0]\n",
            " [0.0 0.0 1.0 30.0 54000.0]\n",
            " [0.0 1.0 0.0 38.0 61000.0]\n",
            " [0.0 0.0 1.0 40.0 63777.77777777778]\n",
            " [1.0 0.0 0.0 35.0 58000.0]\n",
            " [0.0 1.0 0.0 38.77777777777778 52000.0]\n",
            " [1.0 0.0 0.0 48.0 79000.0]\n",
            " [0.0 0.0 1.0 50.0 83000.0]\n",
            " [1.0 0.0 0.0 37.0 67000.0]]\n"
          ],
          "name": "stdout"
        }
      ]
    },
    {
      "cell_type": "markdown",
      "metadata": {
        "id": "s0rBjUF0FQUj",
        "colab_type": "text"
      },
      "source": [
        "**Encoding the Purchase Column**"
      ]
    },
    {
      "cell_type": "code",
      "metadata": {
        "id": "Uz0N09FoFQEx",
        "colab_type": "code",
        "colab": {
          "base_uri": "https://localhost:8080/",
          "height": 34
        },
        "outputId": "28f79a4f-1d4f-4c4d-f66c-11b04c138bd9"
      },
      "source": [
        "from sklearn.preprocessing import LabelEncoder\n",
        "le = LabelEncoder()\n",
        "y = le.fit_transform(y)\n",
        "print(y)"
      ],
      "execution_count": 12,
      "outputs": [
        {
          "output_type": "stream",
          "text": [
            "[0 1 0 0 1 1 0 1 0 1]\n"
          ],
          "name": "stdout"
        }
      ]
    },
    {
      "cell_type": "markdown",
      "metadata": {
        "id": "_kWF4adcFuXZ",
        "colab_type": "text"
      },
      "source": [
        "## Splitting in Training and Test Set"
      ]
    },
    {
      "cell_type": "code",
      "metadata": {
        "id": "6BffHI7eFzb7",
        "colab_type": "code",
        "colab": {}
      },
      "source": [
        "from sklearn.model_selection import train_test_split\n",
        "X_train, X_test, y_train, y_test = train_test_split(X, y, test_size = 0.2, random_state = 1)"
      ],
      "execution_count": 13,
      "outputs": []
    },
    {
      "cell_type": "code",
      "metadata": {
        "id": "4gyjq2rgF1Ja",
        "colab_type": "code",
        "colab": {
          "base_uri": "https://localhost:8080/",
          "height": 153
        },
        "outputId": "3e679027-e485-41a6-e1c8-0f712771b06d"
      },
      "source": [
        "print(X_train)"
      ],
      "execution_count": 14,
      "outputs": [
        {
          "output_type": "stream",
          "text": [
            "[[0.0 1.0 0.0 38.77777777777778 52000.0]\n",
            " [0.0 0.0 1.0 40.0 63777.77777777778]\n",
            " [1.0 0.0 0.0 44.0 72000.0]\n",
            " [0.0 1.0 0.0 38.0 61000.0]\n",
            " [0.0 1.0 0.0 27.0 48000.0]\n",
            " [1.0 0.0 0.0 48.0 79000.0]\n",
            " [0.0 0.0 1.0 50.0 83000.0]\n",
            " [1.0 0.0 0.0 35.0 58000.0]]\n"
          ],
          "name": "stdout"
        }
      ]
    },
    {
      "cell_type": "code",
      "metadata": {
        "id": "aYau3kU0F40m",
        "colab_type": "code",
        "colab": {
          "base_uri": "https://localhost:8080/",
          "height": 51
        },
        "outputId": "aa74f75e-0fa8-431a-dcad-cf3e16b32d51"
      },
      "source": [
        "print(X_test)"
      ],
      "execution_count": 15,
      "outputs": [
        {
          "output_type": "stream",
          "text": [
            "[[0.0 0.0 1.0 30.0 54000.0]\n",
            " [1.0 0.0 0.0 37.0 67000.0]]\n"
          ],
          "name": "stdout"
        }
      ]
    },
    {
      "cell_type": "code",
      "metadata": {
        "id": "U7UGcdxtF7mZ",
        "colab_type": "code",
        "colab": {
          "base_uri": "https://localhost:8080/",
          "height": 34
        },
        "outputId": "19bfdc2d-f38e-4161-f2a3-3ca255374a1d"
      },
      "source": [
        "print(y_train)"
      ],
      "execution_count": 16,
      "outputs": [
        {
          "output_type": "stream",
          "text": [
            "[0 1 0 0 1 1 0 1]\n"
          ],
          "name": "stdout"
        }
      ]
    },
    {
      "cell_type": "code",
      "metadata": {
        "id": "EpaQpkBnF8-J",
        "colab_type": "code",
        "colab": {
          "base_uri": "https://localhost:8080/",
          "height": 34
        },
        "outputId": "7a8a1840-4ce5-494e-d339-de75ffd39b07"
      },
      "source": [
        "print(y_test)"
      ],
      "execution_count": 17,
      "outputs": [
        {
          "output_type": "stream",
          "text": [
            "[0 1]\n"
          ],
          "name": "stdout"
        }
      ]
    },
    {
      "cell_type": "markdown",
      "metadata": {
        "id": "3zrzBcHAGGSZ",
        "colab_type": "text"
      },
      "source": [
        "## Feature Scaling"
      ]
    },
    {
      "cell_type": "code",
      "metadata": {
        "id": "a1nUZ9R6GOsv",
        "colab_type": "code",
        "colab": {
          "base_uri": "https://localhost:8080/",
          "height": 153
        },
        "outputId": "8abdeb02-5164-4b12-b5b8-4b14e8c1d271"
      },
      "source": [
        "print(X_train)"
      ],
      "execution_count": 18,
      "outputs": [
        {
          "output_type": "stream",
          "text": [
            "[[0.0 1.0 0.0 38.77777777777778 52000.0]\n",
            " [0.0 0.0 1.0 40.0 63777.77777777778]\n",
            " [1.0 0.0 0.0 44.0 72000.0]\n",
            " [0.0 1.0 0.0 38.0 61000.0]\n",
            " [0.0 1.0 0.0 27.0 48000.0]\n",
            " [1.0 0.0 0.0 48.0 79000.0]\n",
            " [0.0 0.0 1.0 50.0 83000.0]\n",
            " [1.0 0.0 0.0 35.0 58000.0]]\n"
          ],
          "name": "stdout"
        }
      ]
    },
    {
      "cell_type": "code",
      "metadata": {
        "id": "K9haUJ4lGvwT",
        "colab_type": "code",
        "colab": {
          "base_uri": "https://localhost:8080/",
          "height": 51
        },
        "outputId": "5238b2f6-1c89-4c15-fe61-09bec156782d"
      },
      "source": [
        "print(X_test)"
      ],
      "execution_count": 19,
      "outputs": [
        {
          "output_type": "stream",
          "text": [
            "[[0.0 0.0 1.0 30.0 54000.0]\n",
            " [1.0 0.0 0.0 37.0 67000.0]]\n"
          ],
          "name": "stdout"
        }
      ]
    },
    {
      "cell_type": "code",
      "metadata": {
        "id": "yri5zdoFGK7K",
        "colab_type": "code",
        "colab": {}
      },
      "source": [
        "from sklearn.preprocessing import StandardScaler\n",
        "sc = StandardScaler()\n",
        "X_train[:, 3:] = sc.fit_transform(X_train[:, 3:])\n",
        "X_test[:, 3:] = sc.transform(X_test[:, 3:])"
      ],
      "execution_count": 20,
      "outputs": []
    },
    {
      "cell_type": "code",
      "metadata": {
        "colab_type": "code",
        "id": "WbK2CyiYG8oG",
        "colab": {
          "base_uri": "https://localhost:8080/",
          "height": 153
        },
        "outputId": "b864b924-0321-4212-8bd8-2ff173a19726"
      },
      "source": [
        "print(X_train)"
      ],
      "execution_count": 21,
      "outputs": [
        {
          "output_type": "stream",
          "text": [
            "[[0.0 1.0 0.0 -0.19159184384578545 -1.0781259408412425]\n",
            " [0.0 0.0 1.0 -0.014117293757057777 -0.07013167641635372]\n",
            " [1.0 0.0 0.0 0.566708506533324 0.633562432710455]\n",
            " [0.0 1.0 0.0 -0.30453019390224867 -0.30786617274297867]\n",
            " [0.0 1.0 0.0 -1.9018011447007988 -1.420463615551582]\n",
            " [1.0 0.0 0.0 1.1475343068237058 1.232653363453549]\n",
            " [0.0 0.0 1.0 1.4379472069688968 1.5749910381638885]\n",
            " [1.0 0.0 0.0 -0.7401495441200351 -0.5646194287757332]]\n"
          ],
          "name": "stdout"
        }
      ]
    },
    {
      "cell_type": "code",
      "metadata": {
        "id": "Bx2pmqBgHBsZ",
        "colab_type": "code",
        "colab": {
          "base_uri": "https://localhost:8080/",
          "height": 51
        },
        "outputId": "9d952ee1-f84b-4e33-880e-393048f3e754"
      },
      "source": [
        "print(X_test)"
      ],
      "execution_count": 22,
      "outputs": [
        {
          "output_type": "stream",
          "text": [
            "[[0.0 0.0 1.0 -1.4661817944830124 -0.9069571034860727]\n",
            " [1.0 0.0 0.0 -0.44973664397484414 0.2056403393225306]]\n"
          ],
          "name": "stdout"
        }
      ]
    }
  ]
}